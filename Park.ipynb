{
 "cells": [
  {
   "cell_type": "code",
   "execution_count": 8,
   "metadata": {},
   "outputs": [],
   "source": [
    "import cv2 \n",
    "import pickle # We're gonna use use pickle to save the places we're going to select from the image"
   ]
  },
  {
   "cell_type": "code",
   "execution_count": 9,
   "metadata": {},
   "outputs": [
    {
     "data": {
      "text/plain": [
       "array([[[111, 131, 140],\n",
       "        [109, 129, 138],\n",
       "        [107, 126, 136],\n",
       "        ...,\n",
       "        [159, 174, 178],\n",
       "        [158, 173, 176],\n",
       "        [158, 173, 176]],\n",
       "\n",
       "       [[111, 131, 140],\n",
       "        [116, 136, 145],\n",
       "        [118, 138, 147],\n",
       "        ...,\n",
       "        [159, 174, 178],\n",
       "        [158, 173, 176],\n",
       "        [158, 173, 176]],\n",
       "\n",
       "       [[119, 139, 148],\n",
       "        [122, 141, 151],\n",
       "        [133, 153, 162],\n",
       "        ...,\n",
       "        [159, 174, 178],\n",
       "        [158, 173, 176],\n",
       "        [158, 173, 176]],\n",
       "\n",
       "       ...,\n",
       "\n",
       "       [[107, 116, 118],\n",
       "        [103, 112, 115],\n",
       "        [ 98, 108, 110],\n",
       "        ...,\n",
       "        [145, 154, 159],\n",
       "        [140, 153, 155],\n",
       "        [140, 153, 155]],\n",
       "\n",
       "       [[101, 110, 112],\n",
       "        [ 97, 107, 109],\n",
       "        [ 95, 104, 107],\n",
       "        ...,\n",
       "        [145, 154, 159],\n",
       "        [140, 153, 155],\n",
       "        [140, 153, 155]],\n",
       "\n",
       "       [[ 97, 107, 109],\n",
       "        [ 94, 103, 105],\n",
       "        [ 97, 107, 109],\n",
       "        ...,\n",
       "        [145, 154, 159],\n",
       "        [140, 153, 155],\n",
       "        [140, 153, 155]]], dtype=uint8)"
      ]
     },
     "execution_count": 9,
     "metadata": {},
     "output_type": "execute_result"
    }
   ],
   "source": [
    "img = cv2.imread('carParkImg.png')\n",
    "posList = []\n",
    "\n",
    "cv2.rectangle(img, (50, 192), (150, 240) , (255,0,255) , 2)\n",
    "# cv2.imshow('Image', img)\n",
    "# cv2.waitKey(0)"
   ]
  },
  {
   "cell_type": "code",
   "execution_count": 10,
   "metadata": {},
   "outputs": [],
   "source": [
    "width,height = (158-50), (240-192)"
   ]
  },
  {
   "cell_type": "code",
   "execution_count": 11,
   "metadata": {},
   "outputs": [],
   "source": [
    "def mouseClick(event, x, y, flags, params):\n",
    "    if event == cv2.EVENT_LBUTTONDOWN:\n",
    "        posList.append((x, y))\n",
    "    if (event == cv2.EVENT_LBUTTONDOWN & flags == cv2.EVENT_FLAG_CTRLKEY):\n",
    "        for i, pos in enumerate(posList):\n",
    "            x1, y1 = pos\n",
    "        if x1<x<x1+width & y1<y<y1+height:\n",
    "            posList.pop(i)"
   ]
  },
  {
   "cell_type": "code",
   "execution_count": 12,
   "metadata": {},
   "outputs": [],
   "source": [
    "try: \n",
    "    with open('CarParkPos', 'rb') as f:\n",
    "        pickle.load(posList, f)\n",
    "except:\n",
    "    posList = []"
   ]
  },
  {
   "cell_type": "code",
   "execution_count": 13,
   "metadata": {},
   "outputs": [],
   "source": [
    "with open('CarParkPos', 'wb') as f:\n",
    "    pickle.dump(posList, f) "
   ]
  },
  {
   "cell_type": "code",
   "execution_count": 2,
   "metadata": {},
   "outputs": [],
   "source": [
    "import cv2\n",
    "import pickle\n",
    "\n",
    "width,height = (158-50), (240-192)\n",
    "\n",
    "\n",
    "try:\n",
    "    with open('CarParkPos','rb') as f:\n",
    "        posList = pickle.load(f)\n",
    "except:\n",
    "    posList = []\n",
    "\n",
    "def mouseClick(events,x,y,flags,params):\n",
    "    if events == cv2.EVENT_LBUTTONDOWN:\n",
    "        posList.append((x,y))\n",
    "    if events == cv2.EVENT_RBUTTONDOWN:\n",
    "        for i, pos in enumerate(posList):\n",
    "            x1,y1 = pos\n",
    "            if x1<x<x1+width and y1<y<y1+height:\n",
    "                posList.pop(i)\n",
    "    with open('CarParkPos','wb') as f:\n",
    "        pickle.dump(posList,f)\n",
    "\n",
    "while True:\n",
    "    img = cv2.imread('carParkImg.png')\n",
    "    cv2.rectangle(img, (50, 192), (158, 240), (255, 0, 255), 2)\n",
    "\n",
    "    for pos in posList:\n",
    "        cv2.rectangle(img,pos,(pos[0]+width,pos[1]+height),(255,0,255),2)\n",
    "    cv2.imshow('Image', img)\n",
    "\n",
    "    cv2.setMouseCallback('Image',mouseClick)\n",
    "\n",
    "    key = cv2.waitKey(1)\n",
    "     \n",
    "    if key == ord('q'):\n",
    "        break\n",
    "    else:\n",
    "        continue"
   ]
  }
 ],
 "metadata": {
  "kernelspec": {
   "display_name": "base",
   "language": "python",
   "name": "python3"
  },
  "language_info": {
   "codemirror_mode": {
    "name": "ipython",
    "version": 3
   },
   "file_extension": ".py",
   "mimetype": "text/x-python",
   "name": "python",
   "nbconvert_exporter": "python",
   "pygments_lexer": "ipython3",
   "version": "3.9.12"
  },
  "orig_nbformat": 4,
  "vscode": {
   "interpreter": {
    "hash": "83fdaa4a036c770b553794c5672bdb43ec32b098b80996ab992ce37e5ad2f3db"
   }
  }
 },
 "nbformat": 4,
 "nbformat_minor": 2
}
