{
 "cells": [
  {
   "cell_type": "code",
   "execution_count": 7,
   "metadata": {},
   "outputs": [],
   "source": [
    "import cv2 \n",
    "import pickle\n",
    "import numpy as np\n",
    "import cvzone"
   ]
  },
  {
   "cell_type": "code",
   "execution_count": 8,
   "metadata": {},
   "outputs": [],
   "source": [
    "width,height = (158-50), (240-192)\n",
    "\n",
    "cap = cv2.VideoCapture('carPark.mp4')\n",
    "with open('CarParkPos','rb') as f:\n",
    "    posList = pickle.load(f)\n",
    "\n",
    "def checkParkingSpace(imgPro):\n",
    "    spaceCounter = 0\n",
    "    for pos in posList:\n",
    "        x, y = pos\n",
    "        # cv2.rectangle(img, pos, (pos[0] + width, pos[1] + height) , (255, 0 , 0) , 2)\n",
    "        cv2.imshow('Image' , img)\n",
    "\n",
    "        imgCrop = imgPro[y:y+height , x:x+width]\n",
    "        # cv2.imshow(str(x*y) , imgCrop)\n",
    "\n",
    "        count = cv2.countNonZero(imgCrop)\n",
    "        cvzone.putTextRect(img, str(count) , (x, y+height - 10), scale = 1, thickness = 2, offset = 0, colorR = (0,0,255))\n",
    "\n",
    "        if count < 500:\n",
    "            spaceCounter += 1\n",
    "            color = (0, 255, 0) # BGR\n",
    "            thickness = 2\n",
    "        else:\n",
    "            color = (0, 0, 255) \n",
    "            thickness = 1\n",
    "        cv2.rectangle(img, pos, (pos[0] + width, pos[1] + height), color , thickness)\n",
    "        cvzone.putTextRect(img, f\"Free{str(spaceCounter)}/{len(posList)}\" , (450,50), scale = 1, thickness = 3, offset = 20, colorR = (0,200,0))\n",
    "\n",
    "while (True):\n",
    "    # This basically restarts the video\n",
    "    if cap.get(cv2.CAP_PROP_POS_FRAMES) == cap.get(cv2.CAP_PROP_FRAME_COUNT):\n",
    "        cap.set(cv2.CAP_PROP_POS_FRAMES, 0)\n",
    "    \n",
    "    success, img = cap.read()\n",
    "\n",
    "    imgGray =  cv2.cvtColor(img, cv2.COLOR_BGR2GRAY)\n",
    "    imgBlur = cv2.GaussianBlur(imgGray, (3,3) , 1)\n",
    "    imgThreshold = cv2.adaptiveThreshold(imgBlur, 255, cv2.ADAPTIVE_THRESH_GAUSSIAN_C, cv2.THRESH_BINARY_INV, 25, 16)\n",
    "    imgMedian = cv2.medianBlur(imgThreshold , 5)\n",
    "    kernel = np.zeros((3,3) , np.uint8)\n",
    "    imgDilate = cv2.dilate(imgMedian, kernel, iterations = 1)\n",
    "\n",
    "    checkParkingSpace(imgDilate)\n",
    "\n",
    "    for pos in posList:\n",
    "        cv2.rectangle(img, pos, (pos[0] + width, pos[1] + height), (255, 0, 255) , 2)\n",
    "    # cv2.imshow('Image',img)\n",
    "    # cv2.imshow('ImageBlur', imgBlur)\n",
    "    # cv2.imshow('ImageThreshold', imgThreshold)\n",
    "    # cv2.imshow('ImageMedian', imgMedian)\n",
    "    # cv2.imshow('ImageDilate', imgDilate)\n",
    "\n",
    "    key = cv2.waitKey(1)\n",
    "     \n",
    "    if key == ord('q'):\n",
    "        break\n",
    "    else:\n",
    "        continue"
   ]
  }
 ],
 "metadata": {
  "kernelspec": {
   "display_name": "base",
   "language": "python",
   "name": "python3"
  },
  "language_info": {
   "codemirror_mode": {
    "name": "ipython",
    "version": 3
   },
   "file_extension": ".py",
   "mimetype": "text/x-python",
   "name": "python",
   "nbconvert_exporter": "python",
   "pygments_lexer": "ipython3",
   "version": "3.9.12"
  },
  "orig_nbformat": 4,
  "vscode": {
   "interpreter": {
    "hash": "83fdaa4a036c770b553794c5672bdb43ec32b098b80996ab992ce37e5ad2f3db"
   }
  }
 },
 "nbformat": 4,
 "nbformat_minor": 2
}
